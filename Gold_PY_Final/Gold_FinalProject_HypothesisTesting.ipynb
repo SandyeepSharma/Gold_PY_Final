{
 "cells": [
  {
   "cell_type": "code",
   "execution_count": 80,
   "metadata": {},
   "outputs": [
    {
     "name": "stdout",
     "output_type": "stream",
     "text": [
      "['Corporate' 'Consumer' 'Home Office']\n"
     ]
    }
   ],
   "source": [
    "import pandas as pd\n",
    "import numpy as np\n",
    "import matplotlib.pyplot as plt\n",
    "from scipy.stats import f_oneway\n",
    "\n",
    "\n",
    "HypTest_df=pd.read_csv(\"CleanedSuperStore.csv\")\n",
    "HypTest_df=HypTest_df.dropna()\n",
    "print(HypTest_df['Segment'].dropna().unique())"
   ]
  },
  {
   "cell_type": "markdown",
   "metadata": {},
   "source": [
    "Hypothesis Testing:\n",
    "\n",
    "1.Do different product segments perform significantly different in making sales?\n",
    "\n",
    "Null hypothesis: There is no significant difference in average sales between different segments\n",
    "\n",
    "Alternative hypothesis: There is a significant difference in average sales between different segments"
   ]
  },
  {
   "cell_type": "code",
   "execution_count": 81,
   "metadata": {},
   "outputs": [],
   "source": [
    "Segment1 = HypTest_df.loc[HypTest_df[\"Segment\"]=='Consumer', 'Sales'].dropna().drop_duplicates()\n",
    "Segment2 = HypTest_df.loc[HypTest_df[\"Segment\"]=='Home Office', 'Sales'].dropna().drop_duplicates()\n",
    "Segment3 = HypTest_df.loc[HypTest_df[\"Segment\"]=='Corporate', 'Sales'].dropna().drop_duplicates()"
   ]
  },
  {
   "cell_type": "code",
   "execution_count": 82,
   "metadata": {},
   "outputs": [
    {
     "name": "stdout",
     "output_type": "stream",
     "text": [
      "F-statistic: 24.9\n",
      "P-value: 1.759427062215056e-11\n",
      "Reject the null hypothesis: There is a significant difference in average sales between segments.\n"
     ]
    }
   ],
   "source": [
    "\n",
    "#print(sales_by_segment)\n",
    "# Perform one-way ANOVA\n",
    "f_stat, p_value = f_oneway(Segment1,Segment2,Segment3)\n",
    "\n",
    "# Print the results\n",
    "alpha = 0.05\n",
    "print(\"F-statistic:\", round(f_stat,2))\n",
    "print(\"P-value:\", p_value)\n",
    "\n",
    "if p_value < alpha:\n",
    "    print(\"Reject the null hypothesis: There is a significant difference in average sales between segments.\")\n",
    "else:\n",
    "    print(\"Fail to reject the null hypothesis: There is no significant difference in average sales between segments.\")\n"
   ]
  },
  {
   "cell_type": "code",
   "execution_count": null,
   "metadata": {},
   "outputs": [
    {
     "name": "stdout",
     "output_type": "stream",
     "text": [
      "1191.0539023020774 907.3472106577851 1026.331506849315\n"
     ]
    }
   ],
   "source": [
    "x=HypTest_df['Segment']\n",
    "y=HypTest_df['Sales'].astype('int')\n",
    "\n",
    "print(Segment1.mean(), Segment2.mean(), Segment3.mean())\n",
    "plt()\n",
    "#plt.bar(x,y)"
   ]
  },
  {
   "cell_type": "markdown",
   "metadata": {},
   "source": [
    "2.Do different shipping modes perform significantly different in making sales?\n",
    "\n",
    "Null hypothesis: There is no significant difference in average sales between different shipping modes\n",
    "\n",
    "Alternative hypothesis: There is a significant difference in average sales between different shipping modes"
   ]
  },
  {
   "cell_type": "code",
   "execution_count": null,
   "metadata": {},
   "outputs": [],
   "source": []
  },
  {
   "cell_type": "markdown",
   "metadata": {},
   "source": [
    "3.Do different cities perform significantly different in making sales?\n",
    "\n",
    "Null hypothesis: There is no significant difference in average sales between different cities\n",
    "\n",
    "Alternative hypothesis: There is a significant difference in average sales between different cities"
   ]
  },
  {
   "cell_type": "code",
   "execution_count": null,
   "metadata": {},
   "outputs": [],
   "source": []
  },
  {
   "cell_type": "markdown",
   "metadata": {},
   "source": [
    "4.Do different product categories perform significantly different in making sales?\n",
    "\n",
    "Null hypothesis: There is no significant difference in average sales between different product categories\n",
    "\n",
    "Alternative hypothesis: There is a significant difference in average sales between different product categories"
   ]
  },
  {
   "cell_type": "code",
   "execution_count": null,
   "metadata": {},
   "outputs": [],
   "source": []
  },
  {
   "cell_type": "markdown",
   "metadata": {},
   "source": [
    "5.Do different product sub-categories perform significantly different in making sales?\n",
    "\n",
    "Null hypothesis: There is no significant difference in average sales between different product sub-categories\n",
    "\n",
    "Alternative hypothesis: There is a significant difference in average sales between different product sub-categories"
   ]
  },
  {
   "cell_type": "code",
   "execution_count": null,
   "metadata": {},
   "outputs": [],
   "source": []
  },
  {
   "cell_type": "markdown",
   "metadata": {},
   "source": [
    "6.Do different product states perform significantly different in making sales?\n",
    "\n",
    "Null hypothesis: There is no significant difference in average sales between different states\n",
    "\n",
    "Alternative hypothesis: There is a significant difference in average sales between different states"
   ]
  },
  {
   "cell_type": "code",
   "execution_count": null,
   "metadata": {},
   "outputs": [],
   "source": []
  }
 ],
 "metadata": {
  "kernelspec": {
   "display_name": "Python 3",
   "language": "python",
   "name": "python3"
  },
  "language_info": {
   "codemirror_mode": {
    "name": "ipython",
    "version": 3
   },
   "file_extension": ".py",
   "mimetype": "text/x-python",
   "name": "python",
   "nbconvert_exporter": "python",
   "pygments_lexer": "ipython3",
   "version": "3.13.0"
  }
 },
 "nbformat": 4,
 "nbformat_minor": 2
}
