{
 "cells": [
  {
   "cell_type": "code",
   "execution_count": 222,
   "metadata": {},
   "outputs": [],
   "source": [
    "import pandas as pd\n",
    "import numpy as np\n",
    "import matplotlib.pyplot as plt\n",
    "import seaborn as sb"
   ]
  },
  {
   "cell_type": "code",
   "execution_count": 223,
   "metadata": {},
   "outputs": [],
   "source": [
    "df=pd.read_csv(\"superstore.csv\")\n",
    "tempdf=df"
   ]
  },
  {
   "cell_type": "markdown",
   "metadata": {},
   "source": [
    "Removing Miscellaneous(Unwanted) columns:"
   ]
  },
  {
   "cell_type": "code",
   "execution_count": 224,
   "metadata": {},
   "outputs": [
    {
     "name": "stdout",
     "output_type": "stream",
     "text": [
      "Index(['Unnamed: 0', 'Category', 'City', 'Country', 'Customer.ID',\n",
      "       'Customer.Name', 'Discount', 'Market', '记录数', 'Order.Date', 'Order.ID',\n",
      "       'Order.Priority', 'Product.ID', 'Product.Name', 'Profit', 'Quantity',\n",
      "       'Region', 'Row.ID', 'Sales', 'Segment', 'Ship.Date', 'Ship.Mode',\n",
      "       'Shipping.Cost', 'State', 'Sub.Category', 'Year', 'Market2', 'weeknum'],\n",
      "      dtype='object')\n"
     ]
    },
    {
     "data": {
      "text/plain": [
       "0        36624.0\n",
       "1        37033.0\n",
       "2        31468.0\n",
       "3        31469.0\n",
       "4        32440.0\n",
       "          ...   \n",
       "51285    33646.0\n",
       "51286    33645.0\n",
       "51287    32321.0\n",
       "51288    35917.0\n",
       "51289    37371.0\n",
       "Name: Row.ID, Length: 51290, dtype: float64"
      ]
     },
     "execution_count": 224,
     "metadata": {},
     "output_type": "execute_result"
    }
   ],
   "source": [
    "print(tempdf.columns)\n",
    "tempdf.pop(\"Unnamed: 0\")\n",
    "tempdf.pop(\"记录数\")\n",
    "tempdf.pop(\"Row.ID\")"
   ]
  },
  {
   "cell_type": "markdown",
   "metadata": {},
   "source": [
    "Rearraging the columns for convenience"
   ]
  },
  {
   "cell_type": "code",
   "execution_count": 225,
   "metadata": {},
   "outputs": [],
   "source": [
    "columns = [\n",
    "    # Order Details\n",
    "    \"Order.ID\", \"Order.Date\", \"weeknum\", \"Year\", \"Ship.Date\", \"Order.Priority\", \"Ship.Mode\",    \n",
    "    # Customer Details\n",
    "    \"Customer.ID\", \"Customer.Name\", \"Segment\",    \n",
    "    # Location Details\n",
    "    \"City\", \"State\", \"Region\", \"Country\",   \n",
    "    # Product Details\n",
    "    \"Product.ID\", \"Product.Name\", \"Category\", \"Sub.Category\",    \n",
    "    # Sales and Financials\n",
    "    \"Quantity\", \"Sales\", \"Discount\", \"Profit\",    \n",
    "    # Market Details\n",
    "    \"Market\", \"Market2\"\n",
    "]\n",
    "tempdf=tempdf[columns]"
   ]
  },
  {
   "cell_type": "markdown",
   "metadata": {},
   "source": [
    "Cleaning the dataset:"
   ]
  },
  {
   "cell_type": "code",
   "execution_count": 226,
   "metadata": {},
   "outputs": [
    {
     "name": "stdout",
     "output_type": "stream",
     "text": [
      "              Order.ID Order.Date  weeknum    Year  Ship.Date Order.Priority  \\\n",
      "0        ID-2014-54442 2014-12-31       53  2014.0 2015-01-04         Medium   \n",
      "1         MO-2014-2560 2014-12-31       53  2014.0 2015-01-05         Medium   \n",
      "2       MX-2014-110527 2014-12-31       53  2014.0 2015-01-02         Medium   \n",
      "3       MX-2014-116267 2014-12-31       53  2014.0 2015-01-03           High   \n",
      "4      IT-2014-3715679 2014-12-31       53  2014.0 2015-01-05           High   \n",
      "...                ...        ...      ...     ...        ...            ...   \n",
      "51285   CA-2011-131541        NaT       31  2011.0 2011-07-28           High   \n",
      "51286   CA-2013-120250        NaT       38  2013.0 2013-09-23         Medium   \n",
      "51287   CA-2014-131156        NaT       14  2014.0 2014-04-08         Medium   \n",
      "51288   CA-2014-111262        NaT       44  2014.0 2014-11-02           High   \n",
      "51289   US-2014-104661        NaT        3  2014.0 2014-01-19           High   \n",
      "\n",
      "            Ship.Mode Customer.ID        Customer.Name      Segment  ...  \\\n",
      "0      Standard Class   MY-182951      Muhammed Yedwab    Corporate  ...   \n",
      "1      Standard Class    LP-70951            Liz Preis     Consumer  ...   \n",
      "2        Second Class   CM-121903     Charlotte Melton     Consumer  ...   \n",
      "3        Second Class   EB-139753           Erica Bern    Corporate  ...   \n",
      "4        Second Class        <NA>             Jim Kriz  Home Office  ...   \n",
      "...               ...         ...                  ...          ...  ...   \n",
      "51285        Same Day   CK-122054  Chloris Kastensmidt     Consumer  ...   \n",
      "51286     First Class   AP-107204           Anne Pryor  Home Office  ...   \n",
      "51287  Standard Class   KH-163604     Katherine Hughes     Consumer  ...   \n",
      "51288    Second Class   KH-165104        Keith Herrera     Consumer  ...   \n",
      "51289     First Class   TB-212504         Tim Brockman     Consumer  ...   \n",
      "\n",
      "             Product.ID                                     Product.Name  \\\n",
      "0       TEC-AC-10002221                         Memorex Mouse, Bluetooth   \n",
      "1      OFF-WIL-10001069          Wilson Jones Hole Reinforcements, Clear   \n",
      "2       TEC-PH-10004901                 Nokia Office Telephone, Cordless   \n",
      "3       FUR-CH-10004844                 Novimex Swivel Stool, Adjustable   \n",
      "4       OFF-AR-10000659                BIC Pencil Sharpener, Fluorescent   \n",
      "...                 ...                                              ...   \n",
      "51285   OFF-FA-10000621         OIC Colored Binder Clips, Assorted Sizes   \n",
      "51286   FUR-FU-10003424                                Nu-Dell Oak Frame   \n",
      "51287   FUR-FU-10001940                                          Staples   \n",
      "51288   TEC-AC-10004510  Logitech Desktop MK120 Mouse and keyboard Combo   \n",
      "51289   TEC-AC-10002331                    Maxell 74 Minute CDR, 10/Pack   \n",
      "\n",
      "              Category Sub.Category Quantity  Sales Discount   Profit  Market  \\\n",
      "0           Technology  Accessories      4.0   62.0     0.45 -37.2660    APAC   \n",
      "1      Office Supplies      Binders      1.0    4.0     0.00   0.4200  Africa   \n",
      "2           Technology       Phones      3.0  136.0     0.00  10.8600   LATAM   \n",
      "3            Furniture       Chairs      3.0  334.0     0.00   0.0000   LATAM   \n",
      "4      Office Supplies          Art      2.0   30.0     0.50  -9.6900      EU   \n",
      "...                ...          ...      ...    ...      ...      ...     ...   \n",
      "51285  Office Supplies    Fasteners      5.0   14.0     0.20   5.1910      US   \n",
      "51286        Furniture  Furnishings      3.0   26.0     0.20   3.8448      US   \n",
      "51287        Furniture  Furnishings      4.0   25.0     0.20   7.6416      US   \n",
      "51288       Technology  Accessories      2.0   26.0     0.20  -3.2720      US   \n",
      "51289       Technology  Accessories      8.0   63.0     0.20  13.3008      US   \n",
      "\n",
      "             Market2  \n",
      "0               APAC  \n",
      "1             Africa  \n",
      "2              LATAM  \n",
      "3              LATAM  \n",
      "4                 EU  \n",
      "...              ...  \n",
      "51285  North America  \n",
      "51286  North America  \n",
      "51287  North America  \n",
      "51288  North America  \n",
      "51289  North America  \n",
      "\n",
      "[51290 rows x 24 columns]\n"
     ]
    },
    {
     "name": "stderr",
     "output_type": "stream",
     "text": [
      "C:\\Users\\mooha\\AppData\\Local\\Temp\\ipykernel_26868\\4085397441.py:3: SettingWithCopyWarning: \n",
      "A value is trying to be set on a copy of a slice from a DataFrame.\n",
      "Try using .loc[row_indexer,col_indexer] = value instead\n",
      "\n",
      "See the caveats in the documentation: https://pandas.pydata.org/pandas-docs/stable/user_guide/indexing.html#returning-a-view-versus-a-copy\n",
      "  tempdf[i]=tempdf[i].astype(\"string\")\n",
      "C:\\Users\\mooha\\AppData\\Local\\Temp\\ipykernel_26868\\4085397441.py:4: SettingWithCopyWarning: \n",
      "A value is trying to be set on a copy of a slice from a DataFrame.\n",
      "Try using .loc[row_indexer,col_indexer] = value instead\n",
      "\n",
      "See the caveats in the documentation: https://pandas.pydata.org/pandas-docs/stable/user_guide/indexing.html#returning-a-view-versus-a-copy\n",
      "  tempdf['Order.Date']=pd.to_datetime(tempdf['Order.Date'])\n",
      "C:\\Users\\mooha\\AppData\\Local\\Temp\\ipykernel_26868\\4085397441.py:5: SettingWithCopyWarning: \n",
      "A value is trying to be set on a copy of a slice from a DataFrame.\n",
      "Try using .loc[row_indexer,col_indexer] = value instead\n",
      "\n",
      "See the caveats in the documentation: https://pandas.pydata.org/pandas-docs/stable/user_guide/indexing.html#returning-a-view-versus-a-copy\n",
      "  tempdf['Ship.Date']=pd.to_datetime(tempdf['Ship.Date'])\n",
      "C:\\Users\\mooha\\AppData\\Local\\Temp\\ipykernel_26868\\4085397441.py:6: SettingWithCopyWarning: \n",
      "A value is trying to be set on a copy of a slice from a DataFrame.\n",
      "Try using .loc[row_indexer,col_indexer] = value instead\n",
      "\n",
      "See the caveats in the documentation: https://pandas.pydata.org/pandas-docs/stable/user_guide/indexing.html#returning-a-view-versus-a-copy\n",
      "  tempdf['Year']=pd.to_numeric(tempdf['Year'])\n"
     ]
    }
   ],
   "source": [
    "for i in tempdf.columns:\n",
    "    if(tempdf[i].dtypes=='object'):\n",
    "        tempdf[i]=tempdf[i].astype(\"string\")\n",
    "tempdf['Order.Date']=pd.to_datetime(tempdf['Order.Date'])\n",
    "tempdf['Ship.Date']=pd.to_datetime(tempdf['Ship.Date'])\n",
    "tempdf['Year']=pd.to_numeric(tempdf['Year'])\n",
    "\n",
    "#setting the dataframe index to show the row number\n",
    "tempdf=tempdf.sort_values(by='Order.Date', ascending=False)\n",
    "\n",
    "tempdf.reset_index()\n",
    "tempdf.set_index(np.arange(0,len(tempdf)), inplace=True)\n",
    "print(tempdf)"
   ]
  },
  {
   "cell_type": "code",
   "execution_count": 227,
   "metadata": {},
   "outputs": [
    {
     "name": "stdout",
     "output_type": "stream",
     "text": [
      "51290\n",
      "0\n",
      "50715\n"
     ]
    }
   ],
   "source": [
    "print(len(tempdf))\n",
    "tempdf = tempdf[tempdf['Ship.Date'] >= tempdf['Order.Date']]\n",
    "print(df.duplicated().sum())\n",
    "print(len(tempdf))"
   ]
  },
  {
   "cell_type": "code",
   "execution_count": 228,
   "metadata": {},
   "outputs": [],
   "source": [
    "#filling up the Market and Market2 columns\n",
    "M1=tempdf[\"Market\"].dropna().unique().tolist()\n",
    "M2=tempdf[\"Market2\"].dropna().unique().tolist()\n",
    "M2.append(\"North America\")\n",
    "#print(M1,\"\\n\", M2)\n",
    "\n",
    "for i in range(len(M1)): \n",
    "    tempdf.loc[tempdf[\"Market\"].isna() & (tempdf[\"Market2\"]==M2[i]), \"Market\"] = M1[i]\n",
    "    tempdf.loc[tempdf[\"Market2\"].isna() & (tempdf[\"Market\"]==M1[i]), \"Market2\"] = M2[i]"
   ]
  },
  {
   "cell_type": "markdown",
   "metadata": {},
   "source": [
    "Cleaning Location related information"
   ]
  },
  {
   "cell_type": "code",
   "execution_count": 229,
   "metadata": {},
   "outputs": [],
   "source": [
    "c=pd.read_csv(\"cities.csv\")\n",
    "city_state_country=c.loc[:,[\"name\", \"state_name\", \"country_name\"]]"
   ]
  },
  {
   "cell_type": "code",
   "execution_count": 230,
   "metadata": {},
   "outputs": [
    {
     "name": "stdout",
     "output_type": "stream",
     "text": [
      "26\n",
      "348\n",
      "244\n"
     ]
    }
   ],
   "source": [
    "# Creating a mapping dictionary \n",
    "state_to_country = dict(zip(city_state_country['state_name'], city_state_country['country_name']))\n",
    "city_to_country = dict(zip(city_state_country['name'], city_state_country['country_name']))\n",
    "city_to_state = dict(zip(city_state_country['state_name'], city_state_country['name']))\n",
    "\n",
    "# mapping using np.where\n",
    "tempdf['Country'] = np.where(tempdf['Country'].isna(), tempdf['State'].map(state_to_country), tempdf['Country'])\n",
    "tempdf['Country'] = np.where(tempdf['Country'].isna(), tempdf['City'].map(city_to_country), tempdf['Country'])\n",
    "\n",
    "tempdf['State'] = np.where(tempdf['State'].isna(), tempdf['City'].map(city_to_state), tempdf['State'])\n",
    "\n",
    "print(len(tempdf[tempdf[\"Country\"].isna()]))\n",
    "print(len(tempdf[tempdf[\"State\"].isna()]))\n",
    "print(len(tempdf[tempdf[\"City\"].isna()]))"
   ]
  },
  {
   "cell_type": "code",
   "execution_count": 231,
   "metadata": {},
   "outputs": [
    {
     "name": "stdout",
     "output_type": "stream",
     "text": [
      "<class 'pandas.core.frame.DataFrame'>\n",
      "Index: 50715 entries, 0 to 51084\n",
      "Data columns (total 24 columns):\n",
      " #   Column          Non-Null Count  Dtype         \n",
      "---  ------          --------------  -----         \n",
      " 0   Order.ID        50414 non-null  string        \n",
      " 1   Order.Date      50715 non-null  datetime64[ns]\n",
      " 2   weeknum         50715 non-null  int64         \n",
      " 3   Year            50605 non-null  float64       \n",
      " 4   Ship.Date       50715 non-null  datetime64[ns]\n",
      " 5   Order.Priority  50582 non-null  string        \n",
      " 6   Ship.Mode       50252 non-null  string        \n",
      " 7   Customer.ID     50491 non-null  string        \n",
      " 8   Customer.Name   50292 non-null  string        \n",
      " 9   Segment         50291 non-null  string        \n",
      " 10  City            50471 non-null  string        \n",
      " 11  State           50367 non-null  object        \n",
      " 12  Region          50305 non-null  string        \n",
      " 13  Country         50689 non-null  object        \n",
      " 14  Product.ID      50430 non-null  string        \n",
      " 15  Product.Name    50686 non-null  string        \n",
      " 16  Category        50599 non-null  string        \n",
      " 17  Sub.Category    50440 non-null  string        \n",
      " 18  Quantity        50568 non-null  float64       \n",
      " 19  Sales           50538 non-null  float64       \n",
      " 20  Discount        50256 non-null  float64       \n",
      " 21  Profit          50392 non-null  float64       \n",
      " 22  Market          50715 non-null  string        \n",
      " 23  Market2         50715 non-null  string        \n",
      "dtypes: datetime64[ns](2), float64(5), int64(1), object(2), string(14)\n",
      "memory usage: 9.7+ MB\n"
     ]
    }
   ],
   "source": [
    "tempdf.isnull().sum() \n",
    "tempdf.info()"
   ]
  },
  {
   "cell_type": "code",
   "execution_count": 232,
   "metadata": {},
   "outputs": [
    {
     "data": {
      "text/html": [
       "<div>\n",
       "<style scoped>\n",
       "    .dataframe tbody tr th:only-of-type {\n",
       "        vertical-align: middle;\n",
       "    }\n",
       "\n",
       "    .dataframe tbody tr th {\n",
       "        vertical-align: top;\n",
       "    }\n",
       "\n",
       "    .dataframe thead th {\n",
       "        text-align: right;\n",
       "    }\n",
       "</style>\n",
       "<table border=\"1\" class=\"dataframe\">\n",
       "  <thead>\n",
       "    <tr style=\"text-align: right;\">\n",
       "      <th>Segment</th>\n",
       "      <th>Consumer</th>\n",
       "      <th>Corporate</th>\n",
       "      <th>Home Office</th>\n",
       "      <th>All</th>\n",
       "    </tr>\n",
       "    <tr>\n",
       "      <th>Year</th>\n",
       "      <th></th>\n",
       "      <th></th>\n",
       "      <th></th>\n",
       "      <th></th>\n",
       "    </tr>\n",
       "  </thead>\n",
       "  <tbody>\n",
       "    <tr>\n",
       "      <th>2011.0</th>\n",
       "      <td>9.16</td>\n",
       "      <td>5.35</td>\n",
       "      <td>3.04</td>\n",
       "      <td>17.55</td>\n",
       "    </tr>\n",
       "    <tr>\n",
       "      <th>2012.0</th>\n",
       "      <td>11.28</td>\n",
       "      <td>6.37</td>\n",
       "      <td>3.72</td>\n",
       "      <td>21.37</td>\n",
       "    </tr>\n",
       "    <tr>\n",
       "      <th>2013.0</th>\n",
       "      <td>13.85</td>\n",
       "      <td>8.18</td>\n",
       "      <td>4.86</td>\n",
       "      <td>26.89</td>\n",
       "    </tr>\n",
       "    <tr>\n",
       "      <th>2014.0</th>\n",
       "      <td>17.43</td>\n",
       "      <td>10.15</td>\n",
       "      <td>6.60</td>\n",
       "      <td>34.18</td>\n",
       "    </tr>\n",
       "    <tr>\n",
       "      <th>All</th>\n",
       "      <td>51.72</td>\n",
       "      <td>30.06</td>\n",
       "      <td>18.22</td>\n",
       "      <td>100.00</td>\n",
       "    </tr>\n",
       "  </tbody>\n",
       "</table>\n",
       "</div>"
      ],
      "text/plain": [
       "Segment  Consumer  Corporate  Home Office     All\n",
       "Year                                             \n",
       "2011.0       9.16       5.35         3.04   17.55\n",
       "2012.0      11.28       6.37         3.72   21.37\n",
       "2013.0      13.85       8.18         4.86   26.89\n",
       "2014.0      17.43      10.15         6.60   34.18\n",
       "All         51.72      30.06        18.22  100.00"
      ]
     },
     "execution_count": 232,
     "metadata": {},
     "output_type": "execute_result"
    }
   ],
   "source": [
    "freq_table = pd.crosstab(tempdf['Year'], tempdf['Segment'], margins=True, dropna=True, normalize=True) \n",
    "round(freq_table*100, 2)\n",
    "#(freq_table/len(tempdf.dropna()))*100"
   ]
  },
  {
   "cell_type": "code",
   "execution_count": 233,
   "metadata": {},
   "outputs": [],
   "source": [
    "#plt.bar(tempdf['Year'], tempdf['Sales'])"
   ]
  },
  {
   "cell_type": "code",
   "execution_count": 234,
   "metadata": {},
   "outputs": [],
   "source": [
    "avgdate=tempdf['Ship.Date']-tempdf['Order.Date']\n",
    "tempdf['avgdate']=avgdate"
   ]
  }
 ],
 "metadata": {
  "kernelspec": {
   "display_name": "Python 3",
   "language": "python",
   "name": "python3"
  },
  "language_info": {
   "codemirror_mode": {
    "name": "ipython",
    "version": 3
   },
   "file_extension": ".py",
   "mimetype": "text/x-python",
   "name": "python",
   "nbconvert_exporter": "python",
   "pygments_lexer": "ipython3",
   "version": "3.13.0"
  }
 },
 "nbformat": 4,
 "nbformat_minor": 2
}
