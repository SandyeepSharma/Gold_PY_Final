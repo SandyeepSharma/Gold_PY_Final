{
 "cells": [
  {
   "cell_type": "code",
   "execution_count": null,
   "metadata": {},
   "outputs": [],
   "source": [
    "import pandas as pd\n",
    "import numpy as np\n",
    "import matplotlib.pyplot as plt\n",
    "import seaborn as sb"
   ]
  },
  {
   "cell_type": "code",
   "execution_count": null,
   "metadata": {},
   "outputs": [],
   "source": [
    "df=pd.read_csv(\"superstore.csv\")\n",
    "tempdf=df\n",
    "print(len(tempdf))"
   ]
  },
  {
   "cell_type": "markdown",
   "metadata": {},
   "source": [
    "Removing Miscellaneous(Unwanted) columns:"
   ]
  },
  {
   "cell_type": "code",
   "execution_count": null,
   "metadata": {},
   "outputs": [],
   "source": [
    "tempdf.pop(\"Unnamed: 0\")\n",
    "tempdf.pop(\"记录数\")\n",
    "print(tempdf.columns)"
   ]
  },
  {
   "cell_type": "markdown",
   "metadata": {},
   "source": [
    "Rearraging the columns for convenience and creating a Index column (Row.ID)"
   ]
  },
  {
   "cell_type": "code",
   "execution_count": null,
   "metadata": {},
   "outputs": [],
   "source": [
    "columns = [\n",
    "    # Order Details\n",
    "    \"Row.ID\", \"Order.ID\", \"Order.Date\", \"weeknum\", \"Year\", \"Ship.Date\", \"Order.Priority\", \"Ship.Mode\",    \n",
    "    # Customer Details\n",
    "    \"Customer.ID\", \"Customer.Name\", \"Segment\",    \n",
    "    # Location Details\n",
    "    \"City\", \"State\", \"Region\", \"Country\",   \n",
    "    # Product Details\n",
    "    \"Product.ID\", \"Product.Name\", \"Category\", \"Sub.Category\",    \n",
    "    # Sales and Financials\n",
    "    \"Quantity\", \"Sales\", \"Discount\", \"Profit\",    \n",
    "    # Market Details\n",
    "    \"Market\", \"Market2\"\n",
    "]\n",
    "\n",
    "tempdf=tempdf[columns].sort_values(by=\"Row.ID\", ascending=True)\n",
    "tempdf.isna().any()\n",
    "tempdf[\"Row.ID\"]=tempdf[\"Row.ID\"].interpolate()\n",
    "tempdf[tempdf[\"Row.ID\"].isna()]\n",
    "\n",
    "#setting the dataframe index to show the row number\n",
    "tempdf.reset_index()\n",
    "tempdf.set_index(np.arange(0,len(tempdf)), inplace=True)\n",
    "print(tempdf)\n"
   ]
  },
  {
   "cell_type": "markdown",
   "metadata": {},
   "source": [
    "Cleaning the dataset:"
   ]
  },
  {
   "cell_type": "code",
   "execution_count": null,
   "metadata": {},
   "outputs": [],
   "source": [
    "#filling up the Market and Market2 columns\n",
    "M1=tempdf[\"Market\"].dropna().unique().tolist()\n",
    "M2=tempdf[\"Market2\"].dropna().unique().tolist()\n",
    "M2.append(\"North America\")\n",
    "#print(M1,\"\\n\", M2)\n",
    "\n",
    "for i in range(len(M1)): \n",
    "    tempdf.loc[tempdf[\"Market\"].isna() & (tempdf[\"Market2\"]==M2[i]), \"Market\"] = M1[i]\n",
    "    tempdf.loc[tempdf[\"Market2\"].isna() & (tempdf[\"Market\"]==M1[i]), \"Market2\"] = M2[i]\n",
    "\n",
    "print(tempdf.iloc[1,0])"
   ]
  },
  {
   "cell_type": "markdown",
   "metadata": {},
   "source": [
    "cleaning Location related information"
   ]
  },
  {
   "cell_type": "code",
   "execution_count": null,
   "metadata": {},
   "outputs": [],
   "source": [
    "c=pd.read_csv(\"E:/MTU/WLS_Linux_Projects/Project/superstore_data/cities.csv\")\n",
    "city_state_country=c.loc[:,[\"name\", \"state_name\", \"country_name\"]]"
   ]
  },
  {
   "cell_type": "code",
   "execution_count": null,
   "metadata": {},
   "outputs": [],
   "source": [
    "print(len(tempdf[tempdf[\"Country\"].isna()]))\n",
    "print(len(tempdf[tempdf[\"State\"].isna()]))\n",
    "print(len(tempdf[tempdf[\"City\"].isna()]))"
   ]
  },
  {
   "cell_type": "code",
   "execution_count": null,
   "metadata": {},
   "outputs": [],
   "source": [
    "\n",
    "# Creating a mapping dictionary \n",
    "state_to_country = dict(zip(city_state_country['state_name'], city_state_country['country_name']))\n",
    "city_to_country = dict(zip(city_state_country['name'], city_state_country['country_name']))\n",
    "city_to_state = dict(zip(city_state_country['state_name'], city_state_country['name']))\n",
    "\n",
    "# mapping using np.where\n",
    "tempdf['Country'] = np.where(tempdf['Country'].isna(), tempdf['State'].map(state_to_country), tempdf['Country'])\n",
    "tempdf['Country'] = np.where(tempdf['Country'].isna(), tempdf['City'].map(city_to_country), tempdf['Country'])\n",
    "\n",
    "tempdf['State'] = np.where(tempdf['State'].isna(), tempdf['City'].map(city_to_state), tempdf['State'])\n",
    "\n",
    "print(len(tempdf[tempdf[\"Country\"].isna()]))\n",
    "print(len(tempdf[tempdf[\"State\"].isna()]))\n",
    "print(len(tempdf[tempdf[\"City\"].isna()]))"
   ]
  },
  {
   "cell_type": "code",
   "execution_count": null,
   "metadata": {},
   "outputs": [],
   "source": [
    "freq_table = pd.crosstab(tempdf['Order.Priority'], tempdf['Segment'], margins=True, dropna=True, normalize=True) \n",
    "round(freq_table*100, 2)\n",
    "#(freq_table/len(tempdf.dropna()))*100\n"
   ]
  }
 ],
 "metadata": {
  "kernelspec": {
   "display_name": "Python 3",
   "language": "python",
   "name": "python3"
  },
  "language_info": {
   "codemirror_mode": {
    "name": "ipython",
    "version": 3
   },
   "file_extension": ".py",
   "mimetype": "text/x-python",
   "name": "python",
   "nbconvert_exporter": "python",
   "pygments_lexer": "ipython3",
   "version": "3.13.0"
  }
 },
 "nbformat": 4,
 "nbformat_minor": 2
}
