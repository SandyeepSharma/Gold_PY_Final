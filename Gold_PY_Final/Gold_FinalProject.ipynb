{
 "cells": [
  {
   "cell_type": "code",
   "execution_count": 571,
   "metadata": {},
   "outputs": [],
   "source": [
    "import pandas as pd\n",
    "import numpy as np\n",
    "import matplotlib.pyplot as plt\n",
    "import seaborn as sb"
   ]
  },
  {
   "cell_type": "code",
   "execution_count": 572,
   "metadata": {},
   "outputs": [],
   "source": [
    "df=pd.read_csv(\"superstore.csv\")\n",
    "tempdf=df"
   ]
  },
  {
   "cell_type": "markdown",
   "metadata": {},
   "source": [
    "Removing Miscellaneous(Unwanted) columns:"
   ]
  },
  {
   "cell_type": "code",
   "execution_count": 573,
   "metadata": {},
   "outputs": [
    {
     "name": "stdout",
     "output_type": "stream",
     "text": [
      "Index(['Unnamed: 0', 'Category', 'City', 'Country', 'Customer.ID',\n",
      "       'Customer.Name', 'Discount', 'Market', '记录数', 'Order.Date', 'Order.ID',\n",
      "       'Order.Priority', 'Product.ID', 'Product.Name', 'Profit', 'Quantity',\n",
      "       'Region', 'Row.ID', 'Sales', 'Segment', 'Ship.Date', 'Ship.Mode',\n",
      "       'Shipping.Cost', 'State', 'Sub.Category', 'Year', 'Market2', 'weeknum'],\n",
      "      dtype='object')\n"
     ]
    },
    {
     "data": {
      "text/plain": [
       "0        West\n",
       "1        West\n",
       "2        West\n",
       "3        West\n",
       "4        West\n",
       "         ... \n",
       "51285    West\n",
       "51286    West\n",
       "51287    West\n",
       "51288    West\n",
       "51289    West\n",
       "Name: Region, Length: 51290, dtype: object"
      ]
     },
     "execution_count": 573,
     "metadata": {},
     "output_type": "execute_result"
    }
   ],
   "source": [
    "print(tempdf.columns)\n",
    "tempdf.pop(\"Unnamed: 0\")\n",
    "tempdf.pop(\"记录数\")\n",
    "tempdf.pop(\"Row.ID\")\n",
    "tempdf.pop('Region')"
   ]
  },
  {
   "cell_type": "markdown",
   "metadata": {},
   "source": [
    "Rearraging the columns for convenience"
   ]
  },
  {
   "cell_type": "code",
   "execution_count": 574,
   "metadata": {},
   "outputs": [],
   "source": [
    "columns = [\n",
    "    # Order Details\n",
    "    \"Order.ID\", \"Order.Date\", \"weeknum\", \"Year\", \"Ship.Date\", \"Order.Priority\", \"Ship.Mode\",    \n",
    "    # Customer Details\n",
    "    \"Customer.ID\", \"Customer.Name\", \"Segment\",    \n",
    "    # Location Details\n",
    "    \"City\", \"State\", \"Country\",   \n",
    "    # Product Details\n",
    "    \"Product.ID\", \"Product.Name\", \"Category\", \"Sub.Category\",    \n",
    "    # Sales and Financials\n",
    "    \"Quantity\", \"Sales\", \"Discount\", \"Profit\",    \n",
    "    # Market Details\n",
    "    \"Market\", \"Market2\"\n",
    "]\n",
    "tempdf=tempdf[columns]"
   ]
  },
  {
   "cell_type": "markdown",
   "metadata": {},
   "source": [
    "Cleaning the dataset:"
   ]
  },
  {
   "cell_type": "code",
   "execution_count": 575,
   "metadata": {},
   "outputs": [
    {
     "name": "stderr",
     "output_type": "stream",
     "text": [
      "C:\\Users\\mooha\\AppData\\Local\\Temp\\ipykernel_26868\\2788352954.py:3: SettingWithCopyWarning: \n",
      "A value is trying to be set on a copy of a slice from a DataFrame.\n",
      "Try using .loc[row_indexer,col_indexer] = value instead\n",
      "\n",
      "See the caveats in the documentation: https://pandas.pydata.org/pandas-docs/stable/user_guide/indexing.html#returning-a-view-versus-a-copy\n",
      "  tempdf[i]=tempdf[i].astype(\"string\")\n",
      "C:\\Users\\mooha\\AppData\\Local\\Temp\\ipykernel_26868\\2788352954.py:4: SettingWithCopyWarning: \n",
      "A value is trying to be set on a copy of a slice from a DataFrame.\n",
      "Try using .loc[row_indexer,col_indexer] = value instead\n",
      "\n",
      "See the caveats in the documentation: https://pandas.pydata.org/pandas-docs/stable/user_guide/indexing.html#returning-a-view-versus-a-copy\n",
      "  tempdf['Order.Date']=pd.to_datetime(tempdf['Order.Date'])\n",
      "C:\\Users\\mooha\\AppData\\Local\\Temp\\ipykernel_26868\\2788352954.py:5: SettingWithCopyWarning: \n",
      "A value is trying to be set on a copy of a slice from a DataFrame.\n",
      "Try using .loc[row_indexer,col_indexer] = value instead\n",
      "\n",
      "See the caveats in the documentation: https://pandas.pydata.org/pandas-docs/stable/user_guide/indexing.html#returning-a-view-versus-a-copy\n",
      "  tempdf['Ship.Date']=pd.to_datetime(tempdf['Ship.Date'])\n",
      "C:\\Users\\mooha\\AppData\\Local\\Temp\\ipykernel_26868\\2788352954.py:6: SettingWithCopyWarning: \n",
      "A value is trying to be set on a copy of a slice from a DataFrame.\n",
      "Try using .loc[row_indexer,col_indexer] = value instead\n",
      "\n",
      "See the caveats in the documentation: https://pandas.pydata.org/pandas-docs/stable/user_guide/indexing.html#returning-a-view-versus-a-copy\n",
      "  tempdf['Year']=pd.to_numeric(tempdf['Year'])\n"
     ]
    }
   ],
   "source": [
    "for i in tempdf.columns:\n",
    "    if(tempdf[i].dtypes=='object'):\n",
    "        tempdf[i]=tempdf[i].astype(\"string\")\n",
    "tempdf['Order.Date']=pd.to_datetime(tempdf['Order.Date'])\n",
    "tempdf['Ship.Date']=pd.to_datetime(tempdf['Ship.Date'])\n",
    "tempdf['Year']=pd.to_numeric(tempdf['Year'])\n",
    "\n",
    "#setting the dataframe index to show the row number\n",
    "tempdf=tempdf.sort_values(by='Order.Date', ascending=False)\n",
    "tempdf.reset_index()\n",
    "tempdf.set_index(np.arange(0,len(tempdf)), inplace=True)"
   ]
  },
  {
   "cell_type": "code",
   "execution_count": 576,
   "metadata": {},
   "outputs": [
    {
     "name": "stdout",
     "output_type": "stream",
     "text": [
      "51290\n",
      "0\n",
      "50715\n"
     ]
    }
   ],
   "source": [
    "print(len(tempdf))\n",
    "tempdf = tempdf[tempdf['Ship.Date'] >= tempdf['Order.Date']]\n",
    "print(df.duplicated().sum())\n",
    "print(len(tempdf))"
   ]
  },
  {
   "cell_type": "code",
   "execution_count": 577,
   "metadata": {},
   "outputs": [],
   "source": [
    "#filling up the Market and Market2 columns\n",
    "M1=tempdf[\"Market\"].dropna().unique().tolist()\n",
    "M2=tempdf[\"Market2\"].dropna().unique().tolist()\n",
    "M2.append(\"North America\")\n",
    "#print(M1,\"\\n\", M2)\n",
    "\n",
    "for i in range(len(M1)): \n",
    "    tempdf.loc[tempdf[\"Market\"].isna() & (tempdf[\"Market2\"]==M2[i]), \"Market\"] = M1[i]\n",
    "    tempdf.loc[tempdf[\"Market2\"].isna() & (tempdf[\"Market\"]==M1[i]), \"Market2\"] = M2[i]"
   ]
  },
  {
   "cell_type": "markdown",
   "metadata": {},
   "source": [
    "Cleaning Location related information"
   ]
  },
  {
   "cell_type": "code",
   "execution_count": 578,
   "metadata": {},
   "outputs": [],
   "source": [
    "c=pd.read_csv(\"cities.csv\")\n",
    "city_state_country=c.loc[:,[\"name\", \"state_name\", \"country_name\"]]"
   ]
  },
  {
   "cell_type": "code",
   "execution_count": null,
   "metadata": {},
   "outputs": [
    {
     "data": {
      "text/plain": [
       "<bound method DataFrame.nunique of               City             State      Country\n",
       "0           Manila  National Capital  Philippines\n",
       "1           Agadir  Souss-Massa-Draâ      Morocco\n",
       "2          Managua           Managua    Nicaragua\n",
       "3        São Paulo         São Paulo       Brazil\n",
       "4        Eindhoven     North Brabant  Netherlands\n",
       "...            ...               ...          ...\n",
       "51080  Wagga Wagga   New South Wales    Australia\n",
       "51081  Wagga Wagga   New South Wales    Australia\n",
       "51082    Stockholm         Stockholm       Sweden\n",
       "51083  Wagga Wagga   New South Wales    Australia\n",
       "51084  Constantine       Constantine      Algeria\n",
       "\n",
       "[50715 rows x 3 columns]>"
      ]
     },
     "execution_count": 579,
     "metadata": {},
     "output_type": "execute_result"
    }
   ],
   "source": [
    "tempdf.loc[:,['City','State','Country']].nunique\n",
    "\n",
    "print(len(tempdf[tempdf[\"Country\"].isna()]))\n",
    "print(len(tempdf[tempdf[\"State\"].isna()]))\n",
    "print(len(tempdf[tempdf[\"City\"].isna()]))\n",
    "\n",
    "# Creating a mapping dictionary \n",
    "state_to_country = dict(zip(city_state_country['state_name'], city_state_country['country_name']))\n",
    "city_to_country = dict(zip(city_state_country['name'], city_state_country['country_name']))\n",
    "city_to_state = dict(zip(city_state_country['state_name'], city_state_country['name']))\n",
    "\n",
    "# mapping using np.where\n",
    "tempdf['Country'] = np.where(tempdf['Country'].isna(), tempdf['State'].map(state_to_country), tempdf['Country'])\n",
    "#tempdf['Country'] = np.where(tempdf['Country'].isna(), tempdf['City'].map(city_to_country), tempdf['Country'])\n",
    "\n",
    "tempdf['State'] = np.where(tempdf['State'].isna(), tempdf['City'].map(city_to_state), tempdf['State'])\n",
    "\n",
    "print(len(tempdf[tempdf[\"Country\"].isna()]))\n",
    "print(len(tempdf[tempdf[\"State\"].isna()]))\n",
    "print(len(tempdf[tempdf[\"City\"].isna()]))"
   ]
  },
  {
   "cell_type": "code",
   "execution_count": 580,
   "metadata": {},
   "outputs": [],
   "source": [
    "tempdf['Year'] = np.where(tempdf['Year'].isna(), pd.DatetimeIndex(tempdf['Order.Date']).year, tempdf['Year'])"
   ]
  },
  {
   "cell_type": "code",
   "execution_count": 581,
   "metadata": {},
   "outputs": [
    {
     "data": {
      "text/plain": [
       "Order.ID          301\n",
       "Order.Date          0\n",
       "weeknum             0\n",
       "Year                0\n",
       "Ship.Date           0\n",
       "Order.Priority    133\n",
       "Ship.Mode         463\n",
       "Customer.ID       224\n",
       "Customer.Name     423\n",
       "Segment           424\n",
       "City              244\n",
       "State             412\n",
       "Country           403\n",
       "Product.ID        285\n",
       "Product.Name       29\n",
       "Category          116\n",
       "Sub.Category      275\n",
       "Quantity          147\n",
       "Sales             177\n",
       "Discount          459\n",
       "Profit            323\n",
       "Market              0\n",
       "Market2             0\n",
       "dtype: int64"
      ]
     },
     "execution_count": 581,
     "metadata": {},
     "output_type": "execute_result"
    }
   ],
   "source": [
    "before=len(tempdf)\n",
    "#tempdf=tempdf.dropna()\n",
    "after=len(tempdf)\n",
    "((before-after)/before)*100\n",
    "\n",
    "tempdf.isna().sum()"
   ]
  },
  {
   "cell_type": "code",
   "execution_count": 582,
   "metadata": {},
   "outputs": [
    {
     "data": {
      "text/html": [
       "<div>\n",
       "<style scoped>\n",
       "    .dataframe tbody tr th:only-of-type {\n",
       "        vertical-align: middle;\n",
       "    }\n",
       "\n",
       "    .dataframe tbody tr th {\n",
       "        vertical-align: top;\n",
       "    }\n",
       "\n",
       "    .dataframe thead th {\n",
       "        text-align: right;\n",
       "    }\n",
       "</style>\n",
       "<table border=\"1\" class=\"dataframe\">\n",
       "  <thead>\n",
       "    <tr style=\"text-align: right;\">\n",
       "      <th>Segment</th>\n",
       "      <th>Consumer</th>\n",
       "      <th>Corporate</th>\n",
       "      <th>Home Office</th>\n",
       "      <th>All</th>\n",
       "    </tr>\n",
       "    <tr>\n",
       "      <th>Year</th>\n",
       "      <th></th>\n",
       "      <th></th>\n",
       "      <th></th>\n",
       "      <th></th>\n",
       "    </tr>\n",
       "  </thead>\n",
       "  <tbody>\n",
       "    <tr>\n",
       "      <th>2011.0</th>\n",
       "      <td>9.16</td>\n",
       "      <td>5.35</td>\n",
       "      <td>3.04</td>\n",
       "      <td>17.54</td>\n",
       "    </tr>\n",
       "    <tr>\n",
       "      <th>2012.0</th>\n",
       "      <td>11.27</td>\n",
       "      <td>6.37</td>\n",
       "      <td>3.72</td>\n",
       "      <td>21.37</td>\n",
       "    </tr>\n",
       "    <tr>\n",
       "      <th>2013.0</th>\n",
       "      <td>13.87</td>\n",
       "      <td>8.19</td>\n",
       "      <td>4.87</td>\n",
       "      <td>26.93</td>\n",
       "    </tr>\n",
       "    <tr>\n",
       "      <th>2014.0</th>\n",
       "      <td>17.43</td>\n",
       "      <td>10.14</td>\n",
       "      <td>6.59</td>\n",
       "      <td>34.16</td>\n",
       "    </tr>\n",
       "    <tr>\n",
       "      <th>All</th>\n",
       "      <td>51.73</td>\n",
       "      <td>30.06</td>\n",
       "      <td>18.22</td>\n",
       "      <td>100.00</td>\n",
       "    </tr>\n",
       "  </tbody>\n",
       "</table>\n",
       "</div>"
      ],
      "text/plain": [
       "Segment  Consumer  Corporate  Home Office     All\n",
       "Year                                             \n",
       "2011.0       9.16       5.35         3.04   17.54\n",
       "2012.0      11.27       6.37         3.72   21.37\n",
       "2013.0      13.87       8.19         4.87   26.93\n",
       "2014.0      17.43      10.14         6.59   34.16\n",
       "All         51.73      30.06        18.22  100.00"
      ]
     },
     "execution_count": 582,
     "metadata": {},
     "output_type": "execute_result"
    }
   ],
   "source": [
    "freq_table = pd.crosstab(tempdf['Year'], tempdf['Segment'], margins=True, dropna=True, normalize=True) \n",
    "round(freq_table*100, 2)\n",
    "#(freq_table/len(tempdf.dropna()))*100"
   ]
  },
  {
   "cell_type": "code",
   "execution_count": 583,
   "metadata": {},
   "outputs": [],
   "source": [
    "#plt.bar(tempdf['Year'], tempdf['Sales'])"
   ]
  },
  {
   "cell_type": "code",
   "execution_count": 584,
   "metadata": {},
   "outputs": [],
   "source": [
    "avgdate=tempdf['Ship.Date']-tempdf['Order.Date']\n",
    "tempdf['avgdate']=avgdate"
   ]
  }
 ],
 "metadata": {
  "kernelspec": {
   "display_name": "Python 3",
   "language": "python",
   "name": "python3"
  },
  "language_info": {
   "codemirror_mode": {
    "name": "ipython",
    "version": 3
   },
   "file_extension": ".py",
   "mimetype": "text/x-python",
   "name": "python",
   "nbconvert_exporter": "python",
   "pygments_lexer": "ipython3",
   "version": "3.13.0"
  }
 },
 "nbformat": 4,
 "nbformat_minor": 2
}
