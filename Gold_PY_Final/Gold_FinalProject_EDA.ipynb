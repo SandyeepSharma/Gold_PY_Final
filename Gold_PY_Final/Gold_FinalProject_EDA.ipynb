{
 "cells": [
  {
   "cell_type": "code",
   "execution_count": 1,
   "metadata": {},
   "outputs": [],
   "source": [
    "import pandas as pd\n",
    "import numpy as np\n",
    "import matplotlib.pyplot as plt\n",
    "import seaborn as sb"
   ]
  },
  {
   "cell_type": "code",
   "execution_count": 4,
   "metadata": {},
   "outputs": [
    {
     "name": "stdout",
     "output_type": "stream",
     "text": [
      "              Order.ID  Order.Date  weeknum    Year   Ship.Date  \\\n",
      "0        ID-2014-54442  2014-12-31       53  2014.0  2015-01-04   \n",
      "1         MO-2014-2560  2014-12-31       53  2014.0  2015-01-05   \n",
      "2       MX-2014-110527  2014-12-31       53  2014.0  2015-01-02   \n",
      "3       MX-2014-116267  2014-12-31       53  2014.0  2015-01-03   \n",
      "4      IT-2014-3715679  2014-12-31       53  2014.0  2015-01-05   \n",
      "...                ...         ...      ...     ...         ...   \n",
      "49968    IN-2011-47883  2011-01-01        1  2011.0  2011-01-08   \n",
      "49969    IN-2011-47883  2011-01-01        1  2011.0  2011-01-08   \n",
      "49970  IT-2011-3647632  2011-01-01        1  2011.0  2011-01-05   \n",
      "49971    IN-2011-47883  2011-01-01        1  2011.0  2011-01-08   \n",
      "49972     AG-2011-2040  2011-01-01        1  2011.0  2011-01-06   \n",
      "\n",
      "      Order.Priority       Ship.Mode Customer.ID     Customer.Name  \\\n",
      "0             Medium  Standard Class   MY-182951   Muhammed Yedwab   \n",
      "1             Medium  Standard Class    LP-70951         Liz Preis   \n",
      "2             Medium    Second Class   CM-121903  Charlotte Melton   \n",
      "3               High    Second Class   EB-139753        Erica Bern   \n",
      "4               High    Second Class         NaN          Jim Kriz   \n",
      "...              ...             ...         ...               ...   \n",
      "49968         Medium  Standard Class   JH-159851       Joseph Holt   \n",
      "49969         Medium  Standard Class   JH-159851       Joseph Holt   \n",
      "49970           High    Second Class   EM-141402      Eugene Moren   \n",
      "49971         Medium  Standard Class   JH-159851               NaN   \n",
      "49972         Medium  Standard Class   TB-112801   Toby Braunhardt   \n",
      "\n",
      "           Segment  ...        Product.ID  \\\n",
      "0        Corporate  ...   TEC-AC-10002221   \n",
      "1         Consumer  ...  OFF-WIL-10001069   \n",
      "2         Consumer  ...   TEC-PH-10004901   \n",
      "3        Corporate  ...   FUR-CH-10004844   \n",
      "4      Home Office  ...   OFF-AR-10000659   \n",
      "...            ...  ...               ...   \n",
      "49968     Consumer  ...   OFF-SU-10000618   \n",
      "49969     Consumer  ...   OFF-PA-10001968   \n",
      "49970  Home Office  ...   OFF-PA-10001492   \n",
      "49971     Consumer  ...   FUR-FU-10003447   \n",
      "49972     Consumer  ...  OFF-TEN-10000025   \n",
      "\n",
      "                                  Product.Name         Category Sub.Category  \\\n",
      "0                     Memorex Mouse, Bluetooth       Technology  Accessories   \n",
      "1      Wilson Jones Hole Reinforcements, Clear  Office Supplies      Binders   \n",
      "2             Nokia Office Telephone, Cordless       Technology       Phones   \n",
      "3             Novimex Swivel Stool, Adjustable        Furniture       Chairs   \n",
      "4            BIC Pencil Sharpener, Fluorescent  Office Supplies          Art   \n",
      "...                                        ...              ...          ...   \n",
      "49968                 Acme Trimmer, High Speed  Office Supplies     Supplies   \n",
      "49969  Eaton Computer Printout Paper, 8.5 x 11  Office Supplies        Paper   \n",
      "49970              Enermax Note Cards, Premium  Office Supplies        Paper   \n",
      "49971               Eldon Light Bulb, Duo Pack        Furniture  Furnishings   \n",
      "49972                      Tenex Lockers, Blue  Office Supplies      Storage   \n",
      "\n",
      "      Quantity  Sales Discount   Profit  Market  Market2  \n",
      "0          4.0   62.0     0.45  -37.266    APAC     APAC  \n",
      "1          1.0    4.0     0.00    0.420  Africa   Africa  \n",
      "2          3.0  136.0     0.00   10.860   LATAM    LATAM  \n",
      "3          3.0  334.0     0.00    0.000   LATAM    LATAM  \n",
      "4          2.0   30.0     0.50   -9.690      EU       EU  \n",
      "...        ...    ...      ...      ...     ...      ...  \n",
      "49968      3.0  120.0     0.10   36.036    APAC     APAC  \n",
      "49969      2.0   55.0     0.10   15.342    APAC     APAC  \n",
      "49970      3.0   45.0      NaN  -26.055      EU       EU  \n",
      "49971      5.0  114.0     0.10   37.770    APAC     APAC  \n",
      "49972      2.0  408.0     0.00  106.140  Africa   Africa  \n",
      "\n",
      "[49973 rows x 24 columns]\n"
     ]
    }
   ],
   "source": [
    "dataf=pd.read_csv(\"CleanedSuperStore.csv\")\n",
    "print(dataf)"
   ]
  },
  {
   "cell_type": "markdown",
   "metadata": {},
   "source": [
    "Sales by Region and state:\n",
    "Sales vs. Profit by Category and Sub-Category:\n",
    "Top Three Cities by Sales Over Time:\n",
    "Bottom Three Cities by Sales Over Time:\n",
    "Top Performing Sub-Categories:\n",
    "Top Products by Sales vs. Profit:\n",
    "\n",
    "https://rpubs.com/happiness-n/superstore_sales_hypothesis_report\n"
   ]
  }
 ],
 "metadata": {
  "kernelspec": {
   "display_name": "Python 3",
   "language": "python",
   "name": "python3"
  },
  "language_info": {
   "codemirror_mode": {
    "name": "ipython",
    "version": 3
   },
   "file_extension": ".py",
   "mimetype": "text/x-python",
   "name": "python",
   "nbconvert_exporter": "python",
   "pygments_lexer": "ipython3",
   "version": "3.13.0"
  }
 },
 "nbformat": 4,
 "nbformat_minor": 2
}
